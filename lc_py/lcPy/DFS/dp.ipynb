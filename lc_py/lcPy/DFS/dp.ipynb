{
 "cells": [
  {
   "cell_type": "code",
   "execution_count": null,
   "id": "initial_id",
   "metadata": {
    "collapsed": true
   },
   "outputs": [],
   "source": [
    "# 合并得到最小的旅行时间\n",
    "from cmath import inf\n",
    "from functools import cache\n",
    "from itertools import accumulate\n",
    "from typing import List\n",
    "class Solution:\n",
    "    def minTravelTime(self,l:int,n:int,k:int,position: List[int],time:List[int]) -> int:\n",
    "        s = list(accumulate(time,initial = 0))\n",
    "        \n",
    "        @cache \n",
    "        def dfs(left_k:int,i:int,pre :int) -> int:\n",
    "            if i == n - 1:\n",
    "                return inf if left_k else 0\n",
    "            t = s[i + 1] - s[pre]\n",
    "            return min(dfs(left_k - (nxt - i - 1), nxt, i + 1) + (position[nxt] - position[i]) * t\n",
    "                       for nxt in range(i + 1, min(n, i + 2 + left_k)))\n",
    "            \n",
    "        return dfs(k,0,0)"
   ]
  }
 ],
 "metadata": {
  "kernelspec": {
   "display_name": "Python 3",
   "language": "python",
   "name": "python3"
  },
  "language_info": {
   "codemirror_mode": {
    "name": "ipython",
    "version": 2
   },
   "file_extension": ".py",
   "mimetype": "text/x-python",
   "name": "python",
   "nbconvert_exporter": "python",
   "pygments_lexer": "ipython2",
   "version": "2.7.6"
  }
 },
 "nbformat": 4,
 "nbformat_minor": 5
}
